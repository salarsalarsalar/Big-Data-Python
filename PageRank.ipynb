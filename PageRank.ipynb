{
  "cells": [
    {
      "cell_type": "markdown",
      "metadata": {
        "id": "nn9LQe-RjWr-"
      },
      "source": [
        "$\n",
        "Name = Salar Ahmed\\\\\n",
        "Roll Numer = 19i-1716\\\\\n",
        "Class = BS(DS)\\\\\n",
        "Section = N\\\\\n",
        "$"
      ]
    },
    {
      "cell_type": "code",
      "execution_count": null,
      "metadata": {
        "id": "Ww0J5b7CjWsF"
      },
      "outputs": [],
      "source": [
        "import numpy as np\n",
        "import numpy.linalg as la"
      ]
    },
    {
      "cell_type": "markdown",
      "metadata": {
        "id": "Sob3It7EjWsI"
      },
      "source": [
        "## Finding PageRank\n",
        "![PageRank.png](attachment:PageRank.png)"
      ]
    },
    {
      "cell_type": "code",
      "execution_count": null,
      "metadata": {
        "id": "IsYeJwi9jWsK"
      },
      "outputs": [],
      "source": [
        "#making matrix  A    B    C    D    E    F    U1    U2   U3   U4   U5\n",
        "P  = np.array([[0   ,0   ,0   ,1/11,0   ,0   ,0   ,0   ,0   ,0   ,0   ],      #A\n",
        "               [0   ,0   ,1/11,1/11,1/11,1/11,1/11,1/11,1/11,0   ,0   ],      #B\n",
        "               [0   ,1/11,0   ,0   ,0   ,0   ,0   ,0   ,0   ,0   ,0   ],      #C\n",
        "               [0   ,0   ,0   ,0   ,1/11,0   ,0   ,0   ,0   ,0   ,0   ],      #D\n",
        "               [0   ,0   ,0   ,0   ,0   ,0   ,0   ,0   ,0   ,0   ,0   ],      #E\n",
        "               [0   ,0   ,0   ,0   ,1/11,1/11,0   ,0   ,0   ,0   ,0   ],      #F\n",
        "               [0   ,0   ,0   ,0   ,0   ,0   ,0   ,0   ,0   ,0   ,0   ],      #un-named 1\n",
        "               [0   ,0   ,0   ,0   ,0   ,0   ,0   ,0   ,0   ,0   ,0   ],      #un-named 2\n",
        "               [0   ,0   ,0   ,0   ,0   ,0   ,0   ,0   ,0   ,0   ,0   ],      #un-named 3\n",
        "               [0   ,0   ,0   ,0   ,0   ,0   ,0   ,0   ,0   ,0   ,0   ],      #un-named 4\n",
        "               [0   ,0   ,0   ,0   ,0   ,0   ,1/11,1/11,1/11,1/11,1/11],])    #un-named 5"
      ]
    },
    {
      "cell_type": "markdown",
      "metadata": {
        "id": "VHgFm_OhjWsM"
      },
      "source": [
        "\n",
        "$\n",
        "\\textrm{A = 3.3% }\\\\\n",
        "\\textrm{B = 38.4%}\\\\\n",
        "\\textrm{C = 34.3%}\\\\\n",
        "\\textrm{D = 3.9%}\\\\\n",
        "\\textrm{E = 8.1%}\\\\\n",
        "\\textrm{unnamed pages = 1.6% , 1.6% , 1.6% , 1.6% , 1.6%}\\\\\n",
        "\\textrm{F = 3.9%}\\\\\n",
        "$\n"
      ]
    },
    {
      "cell_type": "code",
      "execution_count": null,
      "metadata": {
        "id": "A5LREyDZjWsO"
      },
      "outputs": [],
      "source": [
        "#making matrix\n",
        "v  = np.array([[1/11],      #A\n",
        "               [1/11],      #B\n",
        "               [1/11],      #C\n",
        "               [1/11],      #D\n",
        "               [1/11],      #E\n",
        "               [1/11],      #F\n",
        "               [1/11],      #un-named 1\n",
        "               [1/11],      #un-named 2\n",
        "               [1/11],      #un-named 3\n",
        "               [1/11],      #un-named 4\n",
        "               [1/11],])    #un-named 5"
      ]
    },
    {
      "cell_type": "code",
      "execution_count": null,
      "metadata": {
        "id": "kHTbN_HOjWsP",
        "outputId": "5a5f6591-1fd4-43be-baf7-08e6ceedf97d"
      },
      "outputs": [
        {
          "data": {
            "text/plain": [
              "array([ 6,  4,  1,  0, 10,  9,  8,  7,  5,  3,  2], dtype=int64)"
            ]
          },
          "execution_count": 43,
          "metadata": {},
          "output_type": "execute_result"
        }
      ],
      "source": [
        "eigVal,eigVec = la.eig(P)\n",
        "eigVal\n",
        "order = np.absolute(eigVal).argsort()[::-1]\n",
        "order"
      ]
    },
    {
      "cell_type": "code",
      "execution_count": null,
      "metadata": {
        "id": "HYfF0hMtjWsR",
        "outputId": "d1e40142-04dd-4395-b3a8-3bcdadc8ff9d"
      },
      "outputs": [
        {
          "data": {
            "text/plain": [
              "array([ 0.        ,  0.        ,  0.09090909,  0.09090909,  0.        ,\n",
              "        0.        ,  0.        ,  0.        ,  0.        ,  0.09090909,\n",
              "       -0.09090909])"
            ]
          },
          "execution_count": 45,
          "metadata": {},
          "output_type": "execute_result"
        }
      ],
      "source": [
        "eigVal = eigVal[order]\n",
        "eigVec  = eigVec[:,order]\n",
        "eigVal"
      ]
    },
    {
      "cell_type": "code",
      "execution_count": null,
      "metadata": {
        "id": "xIsg2q64jWsS",
        "outputId": "f1d27fcb-d464-49ce-c458-3717b79e3146"
      },
      "outputs": [
        {
          "data": {
            "text/plain": [
              "array([-1.00000000e+000, -7.54586948e-309, -1.21252186e-290,\n",
              "        1.21252186e-290,  0.00000000e+000,  0.00000000e+000,\n",
              "        0.00000000e+000,  0.00000000e+000,  0.00000000e+000,\n",
              "        0.00000000e+000,  0.00000000e+000])"
            ]
          },
          "execution_count": 40,
          "metadata": {},
          "output_type": "execute_result"
        }
      ],
      "source": [
        "r = eigVec[:, 0]\n",
        "100 * np.real(r / np.sum(r))\n",
        "r"
      ]
    },
    {
      "cell_type": "code",
      "execution_count": null,
      "metadata": {
        "id": "Rf6PQfl0jWsU",
        "outputId": "9c910970-859a-4770-d75e-a7550b4acec3"
      },
      "outputs": [
        {
          "data": {
            "text/plain": [
              "array([[ 0.00000000e+000,  0.00000000e+000,  1.00000000e+000,\n",
              "        -1.00000000e+000,  0.00000000e+000,  1.00000000e+000,\n",
              "         0.00000000e+000,  0.00000000e+000,  0.00000000e+000,\n",
              "         0.00000000e+000,  0.00000000e+000],\n",
              "       [ 7.07106781e-001,  7.07106781e-001,  0.00000000e+000,\n",
              "        -7.54586948e-309, -7.07106781e-001,  4.42022445e-307,\n",
              "         0.00000000e+000, -3.59301546e-019, -3.59301546e-019,\n",
              "        -3.59301546e-019,  0.00000000e+000],\n",
              "       [ 7.07106781e-001, -7.07106781e-001,  0.00000000e+000,\n",
              "        -1.21252186e-290, -7.07106781e-001,  1.21252186e-290,\n",
              "         0.00000000e+000, -5.77350269e-001, -5.77350269e-001,\n",
              "        -5.77350269e-001,  0.00000000e+000],\n",
              "       [ 0.00000000e+000,  0.00000000e+000,  0.00000000e+000,\n",
              "         1.21252186e-290,  0.00000000e+000, -1.21252186e-290,\n",
              "         0.00000000e+000,  0.00000000e+000,  0.00000000e+000,\n",
              "         0.00000000e+000,  0.00000000e+000],\n",
              "       [ 0.00000000e+000,  0.00000000e+000,  0.00000000e+000,\n",
              "         0.00000000e+000,  0.00000000e+000,  0.00000000e+000,\n",
              "         0.00000000e+000,  0.00000000e+000,  0.00000000e+000,\n",
              "         0.00000000e+000,  0.00000000e+000],\n",
              "       [ 0.00000000e+000,  0.00000000e+000,  0.00000000e+000,\n",
              "         0.00000000e+000,  3.14018492e-016, -0.00000000e+000,\n",
              "         0.00000000e+000,  0.00000000e+000,  0.00000000e+000,\n",
              "         0.00000000e+000,  0.00000000e+000],\n",
              "       [ 0.00000000e+000,  0.00000000e+000,  0.00000000e+000,\n",
              "         0.00000000e+000,  0.00000000e+000,  0.00000000e+000,\n",
              "         0.00000000e+000,  5.77350269e-001,  0.00000000e+000,\n",
              "         0.00000000e+000,  0.00000000e+000],\n",
              "       [ 0.00000000e+000,  0.00000000e+000,  0.00000000e+000,\n",
              "         0.00000000e+000,  0.00000000e+000,  0.00000000e+000,\n",
              "         0.00000000e+000,  0.00000000e+000,  5.77350269e-001,\n",
              "         0.00000000e+000,  0.00000000e+000],\n",
              "       [ 0.00000000e+000,  0.00000000e+000,  0.00000000e+000,\n",
              "         0.00000000e+000,  0.00000000e+000,  0.00000000e+000,\n",
              "         0.00000000e+000,  0.00000000e+000,  0.00000000e+000,\n",
              "         5.77350269e-001,  0.00000000e+000],\n",
              "       [ 0.00000000e+000,  0.00000000e+000,  0.00000000e+000,\n",
              "         0.00000000e+000,  0.00000000e+000,  0.00000000e+000,\n",
              "         0.00000000e+000,  0.00000000e+000,  0.00000000e+000,\n",
              "         0.00000000e+000,  7.07106781e-001],\n",
              "       [ 0.00000000e+000,  0.00000000e+000,  0.00000000e+000,\n",
              "         0.00000000e+000,  0.00000000e+000,  0.00000000e+000,\n",
              "         1.00000000e+000, -5.77350269e-001, -5.77350269e-001,\n",
              "        -5.77350269e-001, -7.07106781e-001]])"
            ]
          },
          "execution_count": 30,
          "metadata": {},
          "output_type": "execute_result"
        }
      ],
      "source": [
        "eigVec"
      ]
    },
    {
      "cell_type": "code",
      "execution_count": null,
      "metadata": {
        "id": "DVn9d-vxjWsU",
        "outputId": "552baf27-94d6-41a7-c91c-92eb28435654"
      },
      "outputs": [
        {
          "data": {
            "text/plain": [
              "array([[0.00826446],\n",
              "       [0.05785124],\n",
              "       [0.00826446],\n",
              "       [0.00826446],\n",
              "       [0.        ],\n",
              "       [0.01652893],\n",
              "       [0.        ],\n",
              "       [0.        ],\n",
              "       [0.        ],\n",
              "       [0.        ],\n",
              "       [0.04132231]])"
            ]
          },
          "execution_count": 27,
          "metadata": {},
          "output_type": "execute_result"
        }
      ],
      "source": [
        "# @ is dot product operator\n",
        "M = P @ v\n",
        "M"
      ]
    },
    {
      "cell_type": "code",
      "execution_count": null,
      "metadata": {
        "id": "w7ZWO97FjWsV",
        "outputId": "abfab4f4-459d-47c5-8e02-c8dc36669d7c"
      },
      "outputs": [
        {
          "data": {
            "text/plain": [
              "array([0.00000000e+000, 7.40170302e-101, 7.61940017e-101, 0.00000000e+000,\n",
              "       0.00000000e+000, 1.45131432e-102, 0.00000000e+000, 0.00000000e+000,\n",
              "       0.00000000e+000, 0.00000000e+000, 3.62828580e-102])"
            ]
          },
          "execution_count": 48,
          "metadata": {},
          "output_type": "execute_result"
        }
      ],
      "source": [
        "r = 100 * np.ones(11)\n",
        "for i in np.arange(100):\n",
        "    r = P @ r\n",
        "r"
      ]
    },
    {
      "cell_type": "markdown",
      "metadata": {
        "id": "4TZWnsxfjWsW"
      },
      "source": [
        "### above giving weird values because of dead end"
      ]
    },
    {
      "cell_type": "markdown",
      "metadata": {
        "id": "yc1Kj0injWsX"
      },
      "source": [
        "formulae for dead ends\n",
        "\n",
        "$$\n",
        "P = \\frac{1-\\beta}{N} + \\beta(\\frac{PageRank_{prev}(A)}{outlink(A)} + \\frac{PageRank_{prev}(B)}{outlink(B)} + \\cdots)\n",
        "$$\n",
        "\n",
        "$ where, \\ \\beta= 0.15 $"
      ]
    },
    {
      "cell_type": "code",
      "execution_count": null,
      "metadata": {
        "id": "fWAPEc4-jWsX"
      },
      "outputs": [],
      "source": [
        "beta = 0.15 # We can change this value\n",
        "# if we increase the value, the convergence decreses\n",
        "M = beta * P + (1-beta)/11 * np.ones([11, 11])"
      ]
    },
    {
      "cell_type": "code",
      "execution_count": null,
      "metadata": {
        "id": "EH19aW5sjWsY",
        "outputId": "a0974542-a84e-4b52-b16a-d5b2c595113f"
      },
      "outputs": [
        {
          "name": "stdout",
          "output_type": "stream",
          "text": [
            "44 iterations to convergence.\n"
          ]
        },
        {
          "data": {
            "text/plain": [
              "array([0.0179595 , 0.01963388, 0.01798578, 0.01795517, 0.01767837,\n",
              "       0.01824077, 0.01767837, 0.01767837, 0.01767837, 0.01767837,\n",
              "       0.01908435])"
            ]
          },
          "execution_count": 62,
          "metadata": {},
          "output_type": "execute_result"
        }
      ],
      "source": [
        "r = 100 * np.ones(11) / 11\n",
        "lastR = r\n",
        "r = M @ r\n",
        "i = 0\n",
        "while la.norm(lastR - r) > 0.01 :\n",
        "    lastR = r\n",
        "    r = M @ r\n",
        "    i += 1\n",
        "print(str(i) + \" iterations to convergence.\")\n",
        "r"
      ]
    },
    {
      "cell_type": "markdown",
      "metadata": {
        "id": "gC9vzMG_jWsY"
      },
      "source": [
        "# miscellaneous"
      ]
    },
    {
      "cell_type": "code",
      "execution_count": null,
      "metadata": {
        "id": "nFGViOBvjWsZ",
        "outputId": "fc53c7aa-d7e1-4211-d363-20c48c26d2ef"
      },
      "outputs": [
        {
          "data": {
            "text/plain": [
              "0.85"
            ]
          },
          "execution_count": 52,
          "metadata": {},
          "output_type": "execute_result"
        }
      ],
      "source": [
        "1-0.15"
      ]
    },
    {
      "cell_type": "code",
      "execution_count": null,
      "metadata": {
        "id": "xHFBXDbtjWsZ",
        "outputId": "943c70c0-f450-4581-bd09-3d3bc407d79d"
      },
      "outputs": [
        {
          "name": "stdout",
          "output_type": "stream",
          "text": [
            "0.033\n",
            "0.384\n",
            "0.34299999999999997\n",
            "0.039\n",
            "0.081\n",
            "0.039\n",
            "0.016\n",
            "0.016\n",
            "0.016\n",
            "0.016\n"
          ]
        }
      ],
      "source": [
        "a= 3.3/100\n",
        "b= 38.4/100\n",
        "c= 34.3/100\n",
        "d= 3.9/100\n",
        "e= 8.1/100\n",
        "f= 3.9/100\n",
        "h= 1.6/100\n",
        "\n",
        "print(a,b,c,d,e,f,h,h,h,h, sep='\\n')"
      ]
    },
    {
      "cell_type": "code",
      "execution_count": null,
      "metadata": {
        "id": "0XVjsPmCjWsa",
        "outputId": "97015b17-b1b4-46bd-b97f-de6889d27ee7"
      },
      "outputs": [
        {
          "data": {
            "text/plain": [
              "0.09090909090909091"
            ]
          },
          "execution_count": 21,
          "metadata": {},
          "output_type": "execute_result"
        }
      ],
      "source": [
        "1/11"
      ]
    }
  ],
  "metadata": {
    "kernelspec": {
      "display_name": "Python 3",
      "language": "python",
      "name": "python3"
    },
    "language_info": {
      "codemirror_mode": {
        "name": "ipython",
        "version": 3
      },
      "file_extension": ".py",
      "mimetype": "text/x-python",
      "name": "python",
      "nbconvert_exporter": "python",
      "pygments_lexer": "ipython3",
      "version": "3.8.3"
    },
    "colab": {
      "provenance": []
    }
  },
  "nbformat": 4,
  "nbformat_minor": 0
}